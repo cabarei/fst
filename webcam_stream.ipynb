{
 "cells": [
  {
   "cell_type": "code",
   "execution_count": 10,
   "metadata": {
    "scrolled": true
   },
   "outputs": [],
   "source": [
    "%matplotlib inline\n",
    "import cv2\n",
    "import matplotlib.pyplot as plt\n",
    "\n",
    "\n",
    "def correct_color(img):\n",
    "    b,g,r = cv2.split(img)\n",
    "    return cv2.merge([r,g,b])\n",
    "\n",
    "\n",
    "def process(frame):\n",
    "    pass\n",
    "    #plt.figure()\n",
    "    #plt.imshow(correct_color(frame))\n",
    "\n",
    "    \n",
    "def start_streaming(cam_number=-1):\n",
    "    \n",
    "    cv2.namedWindow(\"webcam_stream\")\n",
    "    vc = cv2.VideoCapture(cam_number)\n",
    "\n",
    "    if vc.isOpened(): # try to get the first frame\n",
    "        rval, frame = vc.read()\n",
    "        if rval: print(\"(press Q to exit)\")\n",
    "            \n",
    "        while rval:\n",
    "            cv2.imshow(\"webcam_stream\", frame)\n",
    "            rval, frame = vc.read()\n",
    "            key = cv2.waitKey(20)\n",
    "            #cv2.line(img=frame, pt1=(10, 10), pt2=(100, 10), color=(255, 0, 0), thickness=5, lineType=8, shift=0)\n",
    "            \n",
    "            margin_left = 20\n",
    "            margin_top = 20\n",
    "            line_height = 25\n",
    "            font_width = 1\n",
    "            fontsize = 0.7\n",
    "            legend = [\"T: take photo\", \"1-5: style transfer\", \"\", \"Q: exit\"]\n",
    "            \n",
    "            for idx, l in enumerate(legend):\n",
    "                cv2.putText(frame,l, (margin_left, margin_top + line_height*idx), cv2.FONT_HERSHEY_SIMPLEX, fontsize, (255,255,255), font_width)\n",
    "\n",
    "            if key == ord('q'):\n",
    "                process(frame)\n",
    "                break\n",
    "\n",
    "    vc.release()\n",
    "    cv2.destroyWindow(\"webcam_stream\")\n",
    "    \n",
    "    try:\n",
    "        cv2.imshow(\"webcam_stream\", frame)\n",
    "    except UnboundLocalError:\n",
    "        print(\"No camera detected\")"
   ]
  },
  {
   "cell_type": "code",
   "execution_count": 11,
   "metadata": {},
   "outputs": [
    {
     "name": "stdout",
     "output_type": "stream",
     "text": [
      "(press Q to exit)\n"
     ]
    }
   ],
   "source": [
    "start_streaming()"
   ]
  },
  {
   "cell_type": "code",
   "execution_count": 25,
   "metadata": {},
   "outputs": [
    {
     "name": "stdout",
     "output_type": "stream",
     "text": [
      "Q - exit\n",
      "P - take photo\n"
     ]
    }
   ],
   "source": [
    "print(legend)"
   ]
  },
  {
   "cell_type": "code",
   "execution_count": null,
   "metadata": {
    "collapsed": true
   },
   "outputs": [],
   "source": []
  }
 ],
 "metadata": {
  "kernelspec": {
   "display_name": "tf1.3/p3.6",
   "language": "python",
   "name": "tf13p36"
  },
  "language_info": {
   "codemirror_mode": {
    "name": "ipython",
    "version": 3
   },
   "file_extension": ".py",
   "mimetype": "text/x-python",
   "name": "python",
   "nbconvert_exporter": "python",
   "pygments_lexer": "ipython3",
   "version": "3.6.2"
  }
 },
 "nbformat": 4,
 "nbformat_minor": 2
}
